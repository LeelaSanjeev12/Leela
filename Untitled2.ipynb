{
  "nbformat": 4,
  "nbformat_minor": 0,
  "metadata": {
    "colab": {
      "provenance": [],
      "authorship_tag": "ABX9TyNbM7VYTUD8QN0jyxms6FOx",
      "include_colab_link": true
    },
    "kernelspec": {
      "name": "python3",
      "display_name": "Python 3"
    },
    "language_info": {
      "name": "python"
    }
  },
  "cells": [
    {
      "cell_type": "markdown",
      "metadata": {
        "id": "view-in-github",
        "colab_type": "text"
      },
      "source": [
        "<a href=\"https://colab.research.google.com/github/LeelaSanjeev12/Leela/blob/main/Untitled2.ipynb\" target=\"_parent\"><img src=\"https://colab.research.google.com/assets/colab-badge.svg\" alt=\"Open In Colab\"/></a>"
      ]
    },
    {
      "cell_type": "markdown",
      "source": [
        "DEVELOP A NEURAL NETWORK THAT CAN READ HANDWRITING\n",
        "\n",
        "Importing the libraries"
      ],
      "metadata": {
        "id": "7QKI2_lBUzAV"
      }
    },
    {
      "cell_type": "code",
      "source": [
        "import numpy as np\n",
        "import tensorflow as tf\n",
        "from tensorflow.keras import layers, models\n",
        "from tensorflow.keras.datasets import mnist\n",
        "from tensorflow.keras.utils import to_categorical\n",
        "import matplotlib.pyplot as plt\n",
        "from PIL import Image"
      ],
      "metadata": {
        "id": "SRXqPKMNU9_A"
      },
      "execution_count": 20,
      "outputs": []
    },
    {
      "cell_type": "markdown",
      "source": [
        "Loading and preprocessing the dataset"
      ],
      "metadata": {
        "id": "fkNf3v-mVHLS"
      }
    },
    {
      "cell_type": "code",
      "source": [
        "(x_train,y_train),(x_test,y_test)=mnist.load_data()\n",
        "x_train=x_train.astype('float32')/255\n",
        "x_test=x_test.astype('float32')/255\n",
        "\n",
        "x_train=x_train.reshape(-1,28,28,1)\n",
        "x_test=x_test.reshape(-1,28,28,1)"
      ],
      "metadata": {
        "id": "AgeDW9AsVLaq"
      },
      "execution_count": 21,
      "outputs": []
    },
    {
      "cell_type": "markdown",
      "source": [
        "One-hot encode labels"
      ],
      "metadata": {
        "id": "EdB91J4YVP-l"
      }
    },
    {
      "cell_type": "code",
      "source": [
        "y_train=to_categorical(y_train,10)\n",
        "y_test=to_categorical(y_test,10)"
      ],
      "metadata": {
        "id": "KfqS7V7JVTQl"
      },
      "execution_count": 22,
      "outputs": []
    },
    {
      "cell_type": "markdown",
      "source": [
        "Building the CNN Model"
      ],
      "metadata": {
        "id": "Ef-HTWtYVXMy"
      }
    },
    {
      "cell_type": "code",
      "source": [
        "model=models.Sequential()\n",
        "\n",
        "model.add(layers.Conv2D(32,(3,3),activation='relu',input_shape=(28,28,1)))\n",
        "model.add(layers.MaxPooling2D((2,2)))\n",
        "model.add(layers.Conv2D(64,(3,3),activation='relu'))\n",
        "model.add(layers.MaxPooling2D((2,2)))"
      ],
      "metadata": {
        "id": "7-RFnzj1Vfbr"
      },
      "execution_count": 23,
      "outputs": []
    },
    {
      "cell_type": "code",
      "source": [
        "model.add(layers.Flatten())"
      ],
      "metadata": {
        "id": "XOLKNUyeVp38"
      },
      "execution_count": 24,
      "outputs": []
    },
    {
      "cell_type": "code",
      "source": [
        "model.add(layers.Dense(64,activation='relu'))\n",
        "model.add(layers.Dense(10,activation='softmax'))\n"
      ],
      "metadata": {
        "id": "WdyQw1cjVqL-"
      },
      "execution_count": 25,
      "outputs": []
    },
    {
      "cell_type": "markdown",
      "source": [
        "Compiling the Model"
      ],
      "metadata": {
        "id": "vLLxVOU4VlFV"
      }
    },
    {
      "cell_type": "code",
      "source": [
        "model.compile(optimizer='adam',\n",
        "              loss='categorical_crossentropy',\n",
        "              metrics=['accuracy'])"
      ],
      "metadata": {
        "id": "1COl1I3LV4fY"
      },
      "execution_count": 26,
      "outputs": []
    },
    {
      "cell_type": "markdown",
      "source": [
        "Displaying the Model Summary"
      ],
      "metadata": {
        "id": "IrzuX81uV_rq"
      }
    },
    {
      "cell_type": "code",
      "source": [
        "model.summary()"
      ],
      "metadata": {
        "colab": {
          "base_uri": "https://localhost:8080/"
        },
        "id": "1swTMqw0WEwo",
        "outputId": "5ed24b57-3816-45c1-d563-a7e0f34cc510"
      },
      "execution_count": 27,
      "outputs": [
        {
          "output_type": "stream",
          "name": "stdout",
          "text": [
            "Model: \"sequential_1\"\n",
            "_________________________________________________________________\n",
            " Layer (type)                Output Shape              Param #   \n",
            "=================================================================\n",
            " conv2d_2 (Conv2D)           (None, 26, 26, 32)        320       \n",
            "                                                                 \n",
            " max_pooling2d_2 (MaxPooling  (None, 13, 13, 32)       0         \n",
            " 2D)                                                             \n",
            "                                                                 \n",
            " conv2d_3 (Conv2D)           (None, 11, 11, 64)        18496     \n",
            "                                                                 \n",
            " max_pooling2d_3 (MaxPooling  (None, 5, 5, 64)         0         \n",
            " 2D)                                                             \n",
            "                                                                 \n",
            " flatten_1 (Flatten)         (None, 1600)              0         \n",
            "                                                                 \n",
            " dense_2 (Dense)             (None, 64)                102464    \n",
            "                                                                 \n",
            " dense_3 (Dense)             (None, 10)                650       \n",
            "                                                                 \n",
            "=================================================================\n",
            "Total params: 121,930\n",
            "Trainable params: 121,930\n",
            "Non-trainable params: 0\n",
            "_________________________________________________________________\n"
          ]
        }
      ]
    },
    {
      "cell_type": "markdown",
      "source": [
        "Training the Model"
      ],
      "metadata": {
        "id": "k1Z2Kps4WWU5"
      }
    },
    {
      "cell_type": "code",
      "source": [
        "history=model.fit(x_train,y_train,epochs=10,batch_size=128,validation_data=(x_test,y_test))"
      ],
      "metadata": {
        "colab": {
          "base_uri": "https://localhost:8080/"
        },
        "id": "XFWvavv_WaZp",
        "outputId": "628cfc0e-abdb-440b-cc38-cb84e116613e"
      },
      "execution_count": 28,
      "outputs": [
        {
          "output_type": "stream",
          "name": "stdout",
          "text": [
            "Epoch 1/10\n",
            "469/469 [==============================] - 56s 117ms/step - loss: 0.2366 - accuracy: 0.9299 - val_loss: 0.0692 - val_accuracy: 0.9773\n",
            "Epoch 2/10\n",
            "469/469 [==============================] - 54s 115ms/step - loss: 0.0630 - accuracy: 0.9811 - val_loss: 0.0412 - val_accuracy: 0.9866\n",
            "Epoch 3/10\n",
            "469/469 [==============================] - 55s 117ms/step - loss: 0.0462 - accuracy: 0.9859 - val_loss: 0.0402 - val_accuracy: 0.9880\n",
            "Epoch 4/10\n",
            "469/469 [==============================] - 54s 116ms/step - loss: 0.0345 - accuracy: 0.9894 - val_loss: 0.0366 - val_accuracy: 0.9882\n",
            "Epoch 5/10\n",
            "469/469 [==============================] - 56s 120ms/step - loss: 0.0274 - accuracy: 0.9917 - val_loss: 0.0339 - val_accuracy: 0.9890\n",
            "Epoch 6/10\n",
            "469/469 [==============================] - 54s 116ms/step - loss: 0.0216 - accuracy: 0.9931 - val_loss: 0.0320 - val_accuracy: 0.9898\n",
            "Epoch 7/10\n",
            "469/469 [==============================] - 54s 114ms/step - loss: 0.0190 - accuracy: 0.9937 - val_loss: 0.0265 - val_accuracy: 0.9923\n",
            "Epoch 8/10\n",
            "469/469 [==============================] - 55s 118ms/step - loss: 0.0151 - accuracy: 0.9952 - val_loss: 0.0349 - val_accuracy: 0.9896\n",
            "Epoch 9/10\n",
            "469/469 [==============================] - 54s 115ms/step - loss: 0.0125 - accuracy: 0.9961 - val_loss: 0.0334 - val_accuracy: 0.9898\n",
            "Epoch 10/10\n",
            "469/469 [==============================] - 55s 118ms/step - loss: 0.0102 - accuracy: 0.9969 - val_loss: 0.0312 - val_accuracy: 0.9915\n"
          ]
        }
      ]
    },
    {
      "cell_type": "markdown",
      "source": [
        "Evaluating the Model"
      ],
      "metadata": {
        "id": "2WafAK7_Wdvz"
      }
    },
    {
      "cell_type": "code",
      "source": [
        "test_loss,test_accuracy=model.evaluate(x_test,y_test)\n",
        "print(f'Test accuracy: {test_accuracy}')"
      ],
      "metadata": {
        "colab": {
          "base_uri": "https://localhost:8080/"
        },
        "id": "O0x_JmPyWiRj",
        "outputId": "040eadfd-14d9-4029-dda4-71b51cc1d9b1"
      },
      "execution_count": 29,
      "outputs": [
        {
          "output_type": "stream",
          "name": "stdout",
          "text": [
            "313/313 [==============================] - 3s 10ms/step - loss: 0.0312 - accuracy: 0.9915\n",
            "Test accuracy: 0.9915000200271606\n"
          ]
        }
      ]
    },
    {
      "cell_type": "markdown",
      "source": [
        "Testing the model with sample image from test data"
      ],
      "metadata": {
        "id": "0zOCBo1gWrHT"
      }
    },
    {
      "cell_type": "code",
      "source": [
        "sample_image_idx=np.random.randint(0,len(x_test))\n",
        "sample_image=x_test[sample_image_idx]\n",
        "\n",
        "true_label=np.argmax(y_test[sample_image_idx])\n",
        "\n",
        "sample_image=sample_image.reshape(1,28,28,1)\n",
        "\n",
        "predictions=model.predict(sample_image)\n",
        "predicted_label=np.argmax(predictions)\n",
        "\n",
        "print(f'True label: {true_label}, Predicted label: {predicted_label}')"
      ],
      "metadata": {
        "colab": {
          "base_uri": "https://localhost:8080/"
        },
        "id": "mwUihS-0WuYx",
        "outputId": "24af225a-7b05-423c-df6f-ae55e9e2453f"
      },
      "execution_count": 30,
      "outputs": [
        {
          "output_type": "stream",
          "name": "stdout",
          "text": [
            "1/1 [==============================] - 0s 87ms/step\n",
            "True label: 2, Predicted label: 2\n"
          ]
        }
      ]
    },
    {
      "cell_type": "markdown",
      "source": [
        "Testing Model on New image"
      ],
      "metadata": {
        "id": "HDJzLbGZWw_s"
      }
    }
  ]
}