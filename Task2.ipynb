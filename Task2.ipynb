{
  "nbformat": 4,
  "nbformat_minor": 0,
  "metadata": {
    "colab": {
      "provenance": [],
      "authorship_tag": "ABX9TyMRa7i37LdMOx3GxZBioqsw",
      "include_colab_link": true
    },
    "kernelspec": {
      "name": "python3",
      "display_name": "Python 3"
    },
    "language_info": {
      "name": "python"
    }
  },
  "cells": [
    {
      "cell_type": "markdown",
      "metadata": {
        "id": "view-in-github",
        "colab_type": "text"
      },
      "source": [
        "<a href=\"https://colab.research.google.com/github/LeelaSanjeev12/Leela/blob/main/Task2.ipynb\" target=\"_parent\"><img src=\"https://colab.research.google.com/assets/colab-badge.svg\" alt=\"Open In Colab\"/></a>"
      ]
    },
    {
      "cell_type": "markdown",
      "source": [
        "Task 02:Stock Market Prediction and Forecasting Using Stacked LSTM\n",
        "\n",
        "Import the libraries"
      ],
      "metadata": {
        "id": "1mnTYB1y98ca"
      }
    },
    {
      "cell_type": "code",
      "source": [
        "import numpy as np\n",
        "import pandas as pd\n",
        "import matplotlib.pyplot as plt\n",
        "from sklearn.preprocessing import MinMaxScaler\n",
        "from tensorflow.keras.models import Sequential\n",
        "from tensorflow.keras.layers import LSTM,Dense"
      ],
      "metadata": {
        "id": "KLx2g2np-l5k"
      },
      "execution_count": null,
      "outputs": []
    },
    {
      "cell_type": "code",
      "source": [
        "from google.colab import drive\n",
        "drive.mount('/content/gdrive')"
      ],
      "metadata": {
        "colab": {
          "base_uri": "https://localhost:8080/"
        },
        "id": "fB8bRYzxk04h",
        "outputId": "9bb9f552-b490-4655-abf2-46fa46a6dd5d"
      },
      "execution_count": null,
      "outputs": [
        {
          "output_type": "stream",
          "name": "stdout",
          "text": [
            "Mounted at /content/gdrive\n"
          ]
        }
      ]
    },
    {
      "cell_type": "markdown",
      "source": [
        "Importing the Dataset"
      ],
      "metadata": {
        "id": "Cog2BVSwG_Go"
      }
    },
    {
      "cell_type": "code",
      "source": [
        "# Load the data\n",
        "data = pd.read_csv(r'/content/gdrive/My Drive/data1.csv')"
      ],
      "metadata": {
        "id": "XT7vPhU2l5Qp"
      },
      "execution_count": null,
      "outputs": []
    },
    {
      "cell_type": "markdown",
      "source": [
        "Preprocessing the Data"
      ],
      "metadata": {
        "id": "EjsJ9YZoHDbP"
      }
    },
    {
      "cell_type": "code",
      "source": [
        "scaler=MinMaxScaler(feature_range=(0,1))\n",
        "scaled_data=scaler.fit_transform(data['Close'].values.reshape(-1,1))"
      ],
      "metadata": {
        "id": "qrdqnDk5_XJ-"
      },
      "execution_count": null,
      "outputs": []
    },
    {
      "cell_type": "markdown",
      "source": [
        "Splitting the data into Training and Testing"
      ],
      "metadata": {
        "id": "ZqAzbC9wHK16"
      }
    },
    {
      "cell_type": "code",
      "source": [
        "# Split the data into train and test setss\n",
        "train_size = int(len(scaled_data) * 0.8)\n",
        "train_data=scaled_data[:train_size]\n",
        "test_data=scaled_data[train_size:]"
      ],
      "metadata": {
        "id": "aBjZlxRul6gS"
      },
      "execution_count": null,
      "outputs": []
    },
    {
      "cell_type": "markdown",
      "source": [
        "Prepare data for LSTM"
      ],
      "metadata": {
        "id": "KRv7bd6KHTtm"
      }
    },
    {
      "cell_type": "code",
      "source": [
        "def creating_dataset(dataset,time_steps=1):\n",
        "  x,y=[],[]\n",
        "  for i in range(len(dataset)-time_steps-1):\n",
        "    x.append(dataset[i:(i+time_steps),0])\n",
        "    y.append(dataset[i+time_steps,0])\n",
        "  return np.array(x),np.array(y)"
      ],
      "metadata": {
        "id": "sfG0vjikl_Gi"
      },
      "execution_count": null,
      "outputs": []
    },
    {
      "cell_type": "code",
      "source": [
        "time_steps=10\n",
        "x_train,y_train=creating_dataset(train_data,time_steps)\n",
        "x_test,y_test=creating_dataset(test_data,time_steps)"
      ],
      "metadata": {
        "id": "ZqA_56bQmD8I"
      },
      "execution_count": null,
      "outputs": []
    },
    {
      "cell_type": "markdown",
      "source": [
        "Build the stacked LSTM model"
      ],
      "metadata": {
        "id": "aFhGgEmMJxp4"
      }
    },
    {
      "cell_type": "code",
      "source": [
        "model=Sequential()\n",
        "model.add(LSTM(units=50,return_sequences=True,input_shape=(x_train.shape[1],1)))\n",
        "model.add(LSTM(units=50))\n",
        "model.add(Dense(units=1))\n",
        "model.compile(optimizer='adam',loss='mean_squared_error')"
      ],
      "metadata": {
        "id": "LosgNqC8mE6W"
      },
      "execution_count": null,
      "outputs": []
    },
    {
      "cell_type": "markdown",
      "source": [
        "Train the Model"
      ],
      "metadata": {
        "id": "z-6O1H3yJ362"
      }
    },
    {
      "cell_type": "code",
      "source": [
        "model.fit(x_train,y_train,epochs=50,batch_size=32)"
      ],
      "metadata": {
        "colab": {
          "base_uri": "https://localhost:8080/"
        },
        "id": "krMIX9LTmO4U",
        "outputId": "a29c66fa-b69e-4dfb-aa17-74057d4ddeff"
      },
      "execution_count": null,
      "outputs": [
        {
          "output_type": "stream",
          "name": "stdout",
          "text": [
            "Epoch 1/50\n",
            "51/51 [==============================] - 0s 10ms/step - loss: 8.1642e-04\n",
            "Epoch 2/50\n",
            "51/51 [==============================] - 1s 10ms/step - loss: 8.1855e-04\n",
            "Epoch 3/50\n",
            "51/51 [==============================] - 0s 10ms/step - loss: 7.4932e-04\n",
            "Epoch 4/50\n",
            "51/51 [==============================] - 1s 14ms/step - loss: 7.7295e-04\n",
            "Epoch 5/50\n",
            "51/51 [==============================] - 1s 13ms/step - loss: 7.4270e-04\n",
            "Epoch 6/50\n",
            "51/51 [==============================] - 1s 13ms/step - loss: 6.8317e-04\n",
            "Epoch 7/50\n",
            "51/51 [==============================] - 1s 14ms/step - loss: 6.8297e-04\n",
            "Epoch 8/50\n",
            "51/51 [==============================] - 1s 11ms/step - loss: 6.6874e-04\n",
            "Epoch 9/50\n",
            "51/51 [==============================] - 1s 10ms/step - loss: 6.8021e-04\n",
            "Epoch 10/50\n",
            "51/51 [==============================] - 0s 9ms/step - loss: 6.2832e-04\n",
            "Epoch 11/50\n",
            "51/51 [==============================] - 0s 9ms/step - loss: 6.2828e-04\n",
            "Epoch 12/50\n",
            "51/51 [==============================] - 0s 10ms/step - loss: 5.7572e-04\n",
            "Epoch 13/50\n",
            "51/51 [==============================] - 1s 10ms/step - loss: 6.0053e-04\n",
            "Epoch 14/50\n",
            "51/51 [==============================] - 1s 10ms/step - loss: 6.2885e-04\n",
            "Epoch 15/50\n",
            "51/51 [==============================] - 1s 10ms/step - loss: 5.3776e-04\n",
            "Epoch 16/50\n",
            "51/51 [==============================] - 0s 10ms/step - loss: 4.7865e-04\n",
            "Epoch 17/50\n",
            "51/51 [==============================] - 0s 9ms/step - loss: 4.8341e-04\n",
            "Epoch 18/50\n",
            "51/51 [==============================] - 0s 9ms/step - loss: 5.3141e-04\n",
            "Epoch 19/50\n",
            "51/51 [==============================] - 1s 10ms/step - loss: 5.1445e-04\n",
            "Epoch 20/50\n",
            "51/51 [==============================] - 0s 10ms/step - loss: 5.1016e-04\n",
            "Epoch 21/50\n",
            "51/51 [==============================] - 0s 10ms/step - loss: 4.8203e-04\n",
            "Epoch 22/50\n",
            "51/51 [==============================] - 0s 9ms/step - loss: 4.3136e-04\n",
            "Epoch 23/50\n",
            "51/51 [==============================] - 0s 10ms/step - loss: 4.2555e-04\n",
            "Epoch 24/50\n",
            "51/51 [==============================] - 0s 10ms/step - loss: 4.0400e-04\n",
            "Epoch 25/50\n",
            "51/51 [==============================] - 0s 9ms/step - loss: 3.9380e-04\n",
            "Epoch 26/50\n",
            "51/51 [==============================] - 1s 10ms/step - loss: 3.9678e-04\n",
            "Epoch 27/50\n",
            "51/51 [==============================] - 1s 10ms/step - loss: 4.0857e-04\n",
            "Epoch 28/50\n",
            "51/51 [==============================] - 1s 12ms/step - loss: 3.5148e-04\n",
            "Epoch 29/50\n",
            "51/51 [==============================] - 1s 13ms/step - loss: 4.2089e-04\n",
            "Epoch 30/50\n",
            "51/51 [==============================] - 1s 13ms/step - loss: 3.4384e-04\n",
            "Epoch 31/50\n",
            "51/51 [==============================] - 1s 13ms/step - loss: 3.3151e-04\n",
            "Epoch 32/50\n",
            "51/51 [==============================] - 1s 13ms/step - loss: 3.5397e-04\n",
            "Epoch 33/50\n",
            "51/51 [==============================] - 1s 10ms/step - loss: 3.2530e-04\n",
            "Epoch 34/50\n",
            "51/51 [==============================] - 1s 10ms/step - loss: 3.2370e-04\n",
            "Epoch 35/50\n",
            "51/51 [==============================] - 0s 10ms/step - loss: 3.3989e-04\n",
            "Epoch 36/50\n",
            "51/51 [==============================] - 1s 10ms/step - loss: 2.9546e-04\n",
            "Epoch 37/50\n",
            "51/51 [==============================] - 1s 10ms/step - loss: 3.1198e-04\n",
            "Epoch 38/50\n",
            "51/51 [==============================] - 1s 10ms/step - loss: 2.8437e-04\n",
            "Epoch 39/50\n",
            "51/51 [==============================] - 1s 10ms/step - loss: 2.6837e-04\n",
            "Epoch 40/50\n",
            "51/51 [==============================] - 1s 11ms/step - loss: 2.8018e-04\n",
            "Epoch 41/50\n",
            "51/51 [==============================] - 1s 11ms/step - loss: 2.7506e-04\n",
            "Epoch 42/50\n",
            "51/51 [==============================] - 1s 11ms/step - loss: 3.1238e-04\n",
            "Epoch 43/50\n",
            "51/51 [==============================] - 1s 11ms/step - loss: 2.5337e-04\n",
            "Epoch 44/50\n",
            "51/51 [==============================] - 1s 25ms/step - loss: 2.7680e-04\n",
            "Epoch 45/50\n",
            "51/51 [==============================] - 1s 14ms/step - loss: 2.4558e-04\n",
            "Epoch 46/50\n",
            "51/51 [==============================] - 1s 10ms/step - loss: 2.7338e-04\n",
            "Epoch 47/50\n",
            "51/51 [==============================] - 1s 11ms/step - loss: 2.5822e-04\n",
            "Epoch 48/50\n",
            "51/51 [==============================] - 1s 10ms/step - loss: 2.4542e-04\n",
            "Epoch 49/50\n",
            "51/51 [==============================] - 1s 11ms/step - loss: 2.4892e-04\n",
            "Epoch 50/50\n",
            "51/51 [==============================] - 1s 14ms/step - loss: 2.4159e-04\n"
          ]
        },
        {
          "output_type": "execute_result",
          "data": {
            "text/plain": [
              "<keras.callbacks.History at 0x7e561810f280>"
            ]
          },
          "metadata": {},
          "execution_count": 13
        }
      ]
    },
    {
      "cell_type": "markdown",
      "source": [
        "Make predictions on Testing data"
      ],
      "metadata": {
        "id": "tlL-mTJHJ9EE"
      }
    },
    {
      "cell_type": "code",
      "source": [
        "predict=model.predict(x_test)\n",
        "predict=scaler.inverse_transform(predict)"
      ],
      "metadata": {
        "colab": {
          "base_uri": "https://localhost:8080/"
        },
        "id": "90fkl4ImmRC_",
        "outputId": "0225f69c-c606-4721-e6be-c21de802cd4f"
      },
      "execution_count": null,
      "outputs": [
        {
          "output_type": "stream",
          "name": "stdout",
          "text": [
            "13/13 [==============================] - 1s 4ms/step\n"
          ]
        }
      ]
    },
    {
      "cell_type": "markdown",
      "source": [
        "Print the Predicted Values"
      ],
      "metadata": {
        "id": "x2ttz4_-KLVS"
      }
    },
    {
      "cell_type": "code",
      "execution_count": null,
      "metadata": {
        "colab": {
          "base_uri": "https://localhost:8080/"
        },
        "id": "hIj_aP0lkFn5",
        "outputId": "325181a6-e7f9-4bb8-e534-1286979086d4"
      },
      "outputs": [
        {
          "output_type": "stream",
          "name": "stdout",
          "text": [
            "Predicted Values:\n",
            "[[119.63873 ]\n",
            " [119.8418  ]\n",
            " [120.5615  ]\n",
            " [121.038704]\n",
            " [121.10011 ]\n",
            " [121.36595 ]\n",
            " [120.42682 ]\n",
            " [121.553276]\n",
            " [120.07184 ]\n",
            " [116.8087  ]\n",
            " [115.89228 ]\n",
            " [117.59641 ]\n",
            " [114.62636 ]\n",
            " [111.76497 ]\n",
            " [109.56762 ]\n",
            " [104.24472 ]\n",
            " [100.38388 ]\n",
            " [ 97.68535 ]\n",
            " [ 95.68065 ]\n",
            " [ 94.23811 ]\n",
            " [ 93.73356 ]\n",
            " [ 94.08548 ]\n",
            " [ 94.20668 ]\n",
            " [ 95.81865 ]\n",
            " [ 97.61669 ]\n",
            " [ 97.06962 ]\n",
            " [ 95.66227 ]\n",
            " [ 94.58449 ]\n",
            " [ 94.420425]\n",
            " [ 94.23581 ]\n",
            " [ 94.24311 ]\n",
            " [ 94.35913 ]\n",
            " [ 94.32021 ]\n",
            " [ 95.11599 ]\n",
            " [ 95.44317 ]\n",
            " [ 94.16043 ]\n",
            " [ 92.67881 ]\n",
            " [ 91.72279 ]\n",
            " [ 90.26609 ]\n",
            " [ 89.49487 ]\n",
            " [ 89.458084]\n",
            " [ 89.63213 ]\n",
            " [ 90.2354  ]\n",
            " [ 89.38015 ]\n",
            " [ 88.01263 ]\n",
            " [ 86.840065]\n",
            " [ 86.84847 ]\n",
            " [ 88.400406]\n",
            " [ 88.94372 ]\n",
            " [ 89.51628 ]\n",
            " [ 89.38878 ]\n",
            " [ 89.91688 ]\n",
            " [ 90.39277 ]\n",
            " [ 91.10684 ]\n",
            " [ 91.498825]\n",
            " [ 92.12342 ]\n",
            " [ 91.22894 ]\n",
            " [ 88.69075 ]\n",
            " [ 86.80986 ]\n",
            " [ 85.66918 ]\n",
            " [ 84.39033 ]\n",
            " [ 83.88018 ]\n",
            " [ 83.25169 ]\n",
            " [ 83.45037 ]\n",
            " [ 83.53178 ]\n",
            " [ 83.74465 ]\n",
            " [ 83.87874 ]\n",
            " [ 84.381226]\n",
            " [ 85.510635]\n",
            " [ 87.085075]\n",
            " [ 88.41999 ]\n",
            " [ 89.489265]\n",
            " [ 90.67676 ]\n",
            " [ 91.48952 ]\n",
            " [ 91.80127 ]\n",
            " [ 92.028145]\n",
            " [ 92.338806]\n",
            " [ 92.91473 ]\n",
            " [ 92.24804 ]\n",
            " [ 90.84517 ]\n",
            " [ 89.41817 ]\n",
            " [ 87.912346]\n",
            " [ 86.81029 ]\n",
            " [ 86.445274]\n",
            " [ 87.26204 ]\n",
            " [ 88.077774]\n",
            " [ 89.60144 ]\n",
            " [ 89.80396 ]\n",
            " [ 89.17213 ]\n",
            " [ 89.04945 ]\n",
            " [ 88.5506  ]\n",
            " [ 87.80047 ]\n",
            " [ 86.156235]\n",
            " [ 84.40897 ]\n",
            " [ 83.93141 ]\n",
            " [ 84.35944 ]\n",
            " [ 85.50462 ]\n",
            " [ 86.39782 ]\n",
            " [ 87.166374]\n",
            " [ 88.3653  ]\n",
            " [ 88.50944 ]\n",
            " [ 88.44728 ]\n",
            " [ 88.0449  ]\n",
            " [ 90.15747 ]\n",
            " [ 91.86505 ]\n",
            " [ 92.27087 ]\n",
            " [ 92.13832 ]\n",
            " [ 92.68276 ]\n",
            " [ 92.939964]\n",
            " [ 92.694496]\n",
            " [ 92.403946]\n",
            " [ 93.07769 ]\n",
            " [ 94.22929 ]\n",
            " [ 94.95444 ]\n",
            " [ 95.22076 ]\n",
            " [ 94.262794]\n",
            " [ 93.808846]\n",
            " [ 93.95587 ]\n",
            " [ 94.12984 ]\n",
            " [ 92.72873 ]\n",
            " [ 92.59057 ]\n",
            " [ 92.42379 ]\n",
            " [ 92.66818 ]\n",
            " [ 92.34625 ]\n",
            " [ 90.880066]\n",
            " [ 90.10273 ]\n",
            " [ 92.32114 ]\n",
            " [ 95.629906]\n",
            " [ 99.46224 ]\n",
            " [102.18624 ]\n",
            " [104.98195 ]\n",
            " [104.97341 ]\n",
            " [105.73207 ]\n",
            " [106.332504]\n",
            " [108.65659 ]\n",
            " [108.977936]\n",
            " [107.40516 ]\n",
            " [107.10278 ]\n",
            " [106.98779 ]\n",
            " [107.61837 ]\n",
            " [108.37004 ]\n",
            " [107.33932 ]\n",
            " [106.53585 ]\n",
            " [105.016   ]\n",
            " [102.47878 ]\n",
            " [101.539825]\n",
            " [102.14571 ]\n",
            " [103.010895]\n",
            " [102.65444 ]\n",
            " [102.85351 ]\n",
            " [102.68052 ]\n",
            " [101.9938  ]\n",
            " [101.88166 ]\n",
            " [101.36061 ]\n",
            " [103.05468 ]\n",
            " [103.79815 ]\n",
            " [103.93641 ]\n",
            " [104.41451 ]\n",
            " [102.03365 ]\n",
            " [ 99.52385 ]\n",
            " [ 96.62123 ]\n",
            " [ 94.72847 ]\n",
            " [ 93.60576 ]\n",
            " [ 93.07694 ]\n",
            " [ 92.4236  ]\n",
            " [ 91.89099 ]\n",
            " [ 92.37984 ]\n",
            " [ 93.28668 ]\n",
            " [ 95.98497 ]\n",
            " [ 97.39736 ]\n",
            " [ 98.616745]\n",
            " [ 99.81257 ]\n",
            " [100.43295 ]\n",
            " [ 99.022995]\n",
            " [ 98.04205 ]\n",
            " [ 98.17737 ]\n",
            " [ 96.948456]\n",
            " [ 95.533844]\n",
            " [ 94.795654]\n",
            " [ 94.69898 ]\n",
            " [ 93.866035]\n",
            " [ 91.585175]\n",
            " [ 89.65776 ]\n",
            " [ 89.08879 ]\n",
            " [ 88.15702 ]\n",
            " [ 88.40835 ]\n",
            " [ 90.35255 ]\n",
            " [ 93.23981 ]\n",
            " [ 95.958244]\n",
            " [ 97.1064  ]\n",
            " [ 97.45562 ]\n",
            " [ 97.42649 ]\n",
            " [ 97.65102 ]\n",
            " [ 98.590805]\n",
            " [ 98.88867 ]\n",
            " [100.052315]\n",
            " [100.54888 ]\n",
            " [ 99.82977 ]\n",
            " [ 99.04459 ]\n",
            " [ 98.084946]\n",
            " [ 98.10375 ]\n",
            " [ 98.98045 ]\n",
            " [ 99.94342 ]\n",
            " [100.83569 ]\n",
            " [102.10316 ]\n",
            " [103.44635 ]\n",
            " [104.44517 ]\n",
            " [103.9867  ]\n",
            " [103.745804]\n",
            " [103.133995]\n",
            " [102.556076]\n",
            " [101.80362 ]\n",
            " [102.51901 ]\n",
            " [103.30472 ]\n",
            " [103.45751 ]\n",
            " [104.281906]\n",
            " [106.670265]\n",
            " [107.4653  ]\n",
            " [107.01484 ]\n",
            " [104.95942 ]\n",
            " [102.91961 ]\n",
            " [100.5691  ]\n",
            " [ 98.871895]\n",
            " [ 97.64501 ]\n",
            " [ 98.08476 ]\n",
            " [ 98.600784]\n",
            " [ 99.347755]\n",
            " [ 99.198685]\n",
            " [ 98.978065]\n",
            " [ 98.95756 ]\n",
            " [ 98.71623 ]\n",
            " [ 98.41879 ]\n",
            " [ 98.95229 ]\n",
            " [ 99.2372  ]\n",
            " [100.790535]\n",
            " [101.681015]\n",
            " [100.05312 ]\n",
            " [ 98.50262 ]\n",
            " [ 96.48423 ]\n",
            " [ 93.30454 ]\n",
            " [ 91.9471  ]\n",
            " [ 91.44196 ]\n",
            " [ 91.60106 ]\n",
            " [ 91.223976]\n",
            " [ 90.59129 ]\n",
            " [ 89.67301 ]\n",
            " [ 92.01869 ]\n",
            " [ 94.673935]\n",
            " [ 96.30599 ]\n",
            " [ 96.41081 ]\n",
            " [ 98.85409 ]\n",
            " [ 97.99724 ]\n",
            " [ 97.22025 ]\n",
            " [ 96.304245]\n",
            " [ 94.61753 ]\n",
            " [ 92.09416 ]\n",
            " [ 90.2635  ]\n",
            " [ 91.08903 ]\n",
            " [ 93.51378 ]\n",
            " [ 95.26892 ]\n",
            " [ 96.39651 ]\n",
            " [ 97.4499  ]\n",
            " [ 98.37213 ]\n",
            " [ 99.3207  ]\n",
            " [100.02821 ]\n",
            " [103.0693  ]\n",
            " [105.37709 ]\n",
            " [106.55997 ]\n",
            " [106.68615 ]\n",
            " [106.8538  ]\n",
            " [106.28345 ]\n",
            " [105.71316 ]\n",
            " [105.46273 ]\n",
            " [105.205025]\n",
            " [104.610085]\n",
            " [104.37156 ]\n",
            " [103.55302 ]\n",
            " [103.93792 ]\n",
            " [106.13162 ]\n",
            " [108.96448 ]\n",
            " [111.31408 ]\n",
            " [112.859215]\n",
            " [112.78959 ]\n",
            " [110.86286 ]\n",
            " [109.0036  ]\n",
            " [108.90161 ]\n",
            " [109.35323 ]\n",
            " [109.86937 ]\n",
            " [111.38503 ]\n",
            " [112.3965  ]\n",
            " [113.36525 ]\n",
            " [114.83104 ]\n",
            " [115.57174 ]\n",
            " [115.69651 ]\n",
            " [115.46286 ]\n",
            " [114.91929 ]\n",
            " [113.98171 ]\n",
            " [112.578926]\n",
            " [111.95793 ]\n",
            " [113.29812 ]\n",
            " [114.66146 ]\n",
            " [115.29104 ]\n",
            " [115.08565 ]\n",
            " [115.28171 ]\n",
            " [115.217316]\n",
            " [114.31381 ]\n",
            " [113.65318 ]\n",
            " [113.1381  ]\n",
            " [111.79377 ]\n",
            " [113.92119 ]\n",
            " [116.02889 ]\n",
            " [118.453606]\n",
            " [119.92067 ]\n",
            " [120.224144]\n",
            " [120.835625]\n",
            " [122.866844]\n",
            " [124.28412 ]\n",
            " [126.487686]\n",
            " [129.68535 ]\n",
            " [129.25467 ]\n",
            " [127.203545]\n",
            " [125.9896  ]\n",
            " [124.89647 ]\n",
            " [124.54637 ]\n",
            " [124.853806]\n",
            " [124.87771 ]\n",
            " [124.92049 ]\n",
            " [127.00787 ]\n",
            " [127.60549 ]\n",
            " [127.70174 ]\n",
            " [128.16122 ]\n",
            " [128.4808  ]\n",
            " [129.53995 ]\n",
            " [129.6944  ]\n",
            " [129.79852 ]\n",
            " [129.76529 ]\n",
            " [129.85342 ]\n",
            " [131.49164 ]\n",
            " [133.00002 ]\n",
            " [132.34554 ]\n",
            " [133.23509 ]\n",
            " [133.09471 ]\n",
            " [133.2309  ]\n",
            " [131.26779 ]\n",
            " [128.76192 ]\n",
            " [126.25507 ]\n",
            " [124.4687  ]\n",
            " [122.12007 ]\n",
            " [121.47994 ]\n",
            " [122.17802 ]\n",
            " [123.164986]\n",
            " [124.47971 ]\n",
            " [124.431946]\n",
            " [122.80326 ]\n",
            " [122.407265]\n",
            " [123.40092 ]\n",
            " [123.312386]\n",
            " [122.86772 ]\n",
            " [123.07192 ]\n",
            " [123.60803 ]\n",
            " [124.942375]\n",
            " [126.67804 ]\n",
            " [127.39711 ]\n",
            " [127.791794]\n",
            " [125.65494 ]\n",
            " [123.55536 ]\n",
            " [122.60142 ]\n",
            " [122.658516]\n",
            " [121.74655 ]\n",
            " [119.75478 ]\n",
            " [118.56076 ]\n",
            " [118.25225 ]\n",
            " [117.75122 ]\n",
            " [117.19257 ]\n",
            " [117.02902 ]\n",
            " [114.6433  ]\n",
            " [113.602615]\n",
            " [111.39625 ]\n",
            " [110.54323 ]\n",
            " [110.883995]\n",
            " [112.63529 ]\n",
            " [113.20973 ]\n",
            " [113.880684]\n",
            " [113.51056 ]\n",
            " [113.287796]\n",
            " [112.87205 ]\n",
            " [113.44545 ]\n",
            " [115.11725 ]\n",
            " [117.10115 ]\n",
            " [117.80138 ]\n",
            " [117.2966  ]\n",
            " [117.00113 ]\n",
            " [117.59934 ]\n",
            " [118.31625 ]\n",
            " [118.26155 ]\n",
            " [119.5073  ]]\n"
          ]
        }
      ],
      "source": [
        "print('Predicted Values:')\n",
        "print(predict)"
      ]
    },
    {
      "cell_type": "markdown",
      "source": [
        "Visualizing the Results"
      ],
      "metadata": {
        "id": "gGUkx2BvKZTT"
      }
    },
    {
      "cell_type": "code",
      "source": [
        "plt.plot(scaler.inverse_transform(test_data),label='Actual Stock Price')\n",
        "plt.plot(predict,label='Predicted Stock Prize')\n",
        "plt.xlabel('Time')\n",
        "plt.ylabel('Stock Price')\n",
        "plt.legend()\n",
        "plt.show()"
      ],
      "metadata": {
        "colab": {
          "base_uri": "https://localhost:8080/",
          "height": 449
        },
        "id": "elzAUkZDFMQ0",
        "outputId": "648a924c-2221-49a7-d992-fb727ac2cd9b"
      },
      "execution_count": null,
      "outputs": [
        {
          "output_type": "display_data",
          "data": {
            "text/plain": [
              "<Figure size 640x480 with 1 Axes>"
            ],
            "image/png": "[encoded data removed]"
          },
          "metadata": {}
        }
      ]
    }
  ]
}